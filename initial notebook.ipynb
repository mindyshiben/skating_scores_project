{
 "cells": [
  {
   "cell_type": "code",
   "execution_count": 1,
   "id": "c395ba86",
   "metadata": {},
   "outputs": [],
   "source": [
    "import pandas as pd\n",
    "import numpy\n",
    "import requests\n",
    "import acquire\n",
    "import os"
   ]
  },
  {
   "cell_type": "code",
   "execution_count": null,
   "id": "0a4d6c68",
   "metadata": {},
   "outputs": [],
   "source": [
    "df = acquire.get_competition_data()"
   ]
  },
  {
   "cell_type": "code",
   "execution_count": null,
   "id": "95daa984",
   "metadata": {},
   "outputs": [],
   "source": [
    "#steps for prepare"
   ]
  },
  {
   "cell_type": "code",
   "execution_count": null,
   "id": "35e8a6e3",
   "metadata": {},
   "outputs": [],
   "source": [
    "df = df.drop(columns=['QA', 'QA.1', 'QB', 'QB.1', 'PR', 'PR.1'])"
   ]
  }
 ],
 "metadata": {
  "kernelspec": {
   "display_name": "Python 3 (ipykernel)",
   "language": "python",
   "name": "python3"
  },
  "language_info": {
   "codemirror_mode": {
    "name": "ipython",
    "version": 3
   },
   "file_extension": ".py",
   "mimetype": "text/x-python",
   "name": "python",
   "nbconvert_exporter": "python",
   "pygments_lexer": "ipython3",
   "version": "3.9.7"
  }
 },
 "nbformat": 4,
 "nbformat_minor": 5
}
