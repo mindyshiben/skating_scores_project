{
 "cells": [
  {
   "cell_type": "markdown",
   "id": "c4d1bbc0",
   "metadata": {},
   "source": [
    "## Skating Score Project\n",
    "\n",
    "### Introduction: \n",
    "\n",
    "   Historically, figure skating has been a sport inwhich the United States has greatly excelled in the Olympic Winter Games. Sports that are judged on both technical merit and artisitc expression are challenging to judge objectively and figure skating is no exception. In 2004, the previous highly subjective figure skating scoring system was replaced with the International Judging System(IJS) which takes into account the minutiae of every skating program awarding a specific point value based on multiple calculations. Following this change, the United States has seen a drastic decrease in international accomplishment for women skaters representing the USA. \n",
    "\n",
    "   The recently 2022 Olympic winter games in Beijing marks 4 consecutive Olympics inwhich the US women have not been awarded a medal. Many critics of current state of international figure skating suggest that the medal drought is directly related to Russian domianance in womens figure skating. Russian figure skating has been under scrutiny for their questionable training tactics and with a recently doping scandal at the 2022 Beijing Olympics, it's more than reasonable for all other skating federations to reject Russian figure skating training tactics and put the wellbeing of athletes ahead of competitive victories However, can the 15 year medal drought be completed contributed to this? \n",
    "\n",
    "   In the four most recent Winter Olympic Games, at least one of the women figure skating medals has gone to an athlete from Japan, South Korea, Italy, or Canada. It's also worth noting that the United States is continuing to excel greatly in most figure skating disciplines (especially mens and ice dancing). This project is a data-driven alaysis of this project inwhich I explore trends that may offer insights to improve US womens figure skating scores at the Olympic Games. \n",
    "\n",
    "### Project Goals:\n",
    "\n",
    "- Construct a machine learning regression model that improves predicted Olympic scores of women figure skaters under the International Judging System (implemented in 2004).\n",
    "- Find the key drivers of Olympic event scores by anaylizing competition data of athletes prior to their Olympic performances.\n",
    "- Empower US figure skating athletes and coaches with information that may lead to positive training modifications.\n",
    "- Thoroughly document the process and key findings.\n",
    "- Prove the potentiality of utilizing the data science pipeline to better the sport of figure skating."
   ]
  },
  {
   "cell_type": "markdown",
   "id": "ce731a90",
   "metadata": {},
   "source": [
    "### Summary of Findings & Recommendations:\n",
    "\n",
    "- My analysis indicates that the top drivers of Olympic Scores are:\n",
    "     > - Athlete's 4 year international competitive history preceding the Olympics\n",
    "     > - Short Program Event Scores (components and elements)\n",
    "     > - Free Program Event Scores (components and elements)\n",
    "     > - Event placements\n",
    "     > - competitive season\n",
    "\n",
    "- My data exploration revealed that USA athletes' scores are lower than desired due to :\n",
    "     > - USA athletes have a lower margin of score improvment over the last 15 years compared to non-USA athletes\n",
    "     > - The elements portion of free program shows the worst margin of improvment for USA athletes \n",
    "     > - USA athletes still slightly outscore non-USA athletes in the components score, but if the trend over the last 15 years continues, USA athletes may fall behind in this category as well\n",
    "     > - USA athletes' element scores seem to be more problematic in the free program. Because the free program is longer than the short program, lack of athletic endurance is one possible explanation to explain this discrepancy.\n",
    "\n",
    "- Interestingly, the skater's 4 year average amount of technical jumping errors did not seem to be a factor contributing to Olympic scores. \n",
    "\n",
    "- I built and trained a Generalized Linear Model(Tweedie Regressor) which is able to improve baseline predicted Olympic scores by approximately 50%.\n",
    " \n",
    "- I can recommend employing this new model with reasonable confidence.\n",
    "\n",
    "- I believe this project demonstrates great promise for the use of data science in improving training strategies and competition outcomes in US Figure Skating."
   ]
  },
  {
   "cell_type": "markdown",
   "id": "15771d96",
   "metadata": {},
   "source": [
    "### Data Acquisition & Preparation"
   ]
  },
  {
   "cell_type": "code",
   "execution_count": 1,
   "id": "ae84149c",
   "metadata": {},
   "outputs": [],
   "source": [
    "import pandas as pd\n",
    "import numpy as np\n",
    "import seaborn as sns\n",
    "import matplotlib.pyplot as plt\n",
    "import requests\n",
    "import acquire\n",
    "import prepare\n",
    "import explore\n",
    "import os\n",
    "from sklearn.model_selection import train_test_split\n",
    "\n",
    "import warnings\n",
    "warnings.filterwarnings(\"ignore\")\n",
    "\n",
    "from math import sqrt\n",
    "from scipy import stats\n",
    "\n",
    "import sklearn.preprocessing\n",
    "from sklearn.model_selection import train_test_split\n",
    "from scipy.stats import pearsonr, spearmanr\n",
    "\n",
    "from sklearn.cluster import DBSCAN\n",
    "from sklearn.cluster import KMeans\n",
    "\n",
    "from sklearn.metrics import mean_squared_error\n",
    "from sklearn.linear_model import LinearRegression, LassoLars, TweedieRegressor\n",
    "from sklearn.preprocessing import PolynomialFeatures\n",
    "from sklearn.impute import SimpleImputer\n",
    "\n",
    "pd.set_option('display.max_columns', None)\n",
    "pd.set_option('display.max_rows', None)\n",
    "pd.set_option('display.max_colwidth', 300)\n",
    "pd.options.display.max_seq_items = 2000\n",
    "\n",
    "from IPython.display import Markdown, display\n",
    "from IPython.core import display as ICD\n",
    "import textwrap\n",
    "import ipywidgets as widgets\n",
    "from traitlets import Unicode, Dict\n",
    "from pandas_profiling import ProfileReport\n",
    "from IPython.core import display as ICD\n",
    "import termcolor\n",
    "\n",
    "np.random.seed(123)"
   ]
  },
  {
   "cell_type": "code",
   "execution_count": 2,
   "id": "e4808e79",
   "metadata": {},
   "outputs": [],
   "source": [
    "df = acquire.get_competition_data()\n",
    "# this is a user-defined function in acquire.py that pulls in selected data from skatingscores.com"
   ]
  },
  {
   "cell_type": "code",
   "execution_count": null,
   "id": "b5d35bc7",
   "metadata": {},
   "outputs": [],
   "source": [
    "df.info()\n",
    "# shows a snapshot of all data/columns that may potentially be used prior to data wrangling."
   ]
  },
  {
   "cell_type": "markdown",
   "id": "74e679c0",
   "metadata": {},
   "source": [
    "### Initial Data - \n",
    "I strategically acquired data on international-level women figure skaters over since 2004. In the next steps, I will label columns much more clearly so those without specific domain knowledge will be able understand this anaylsis much easier. TES, PCS, TSS, etc. are abbreviated parts of the skating score and as I acquired and joined the data together, we can see that there are many duplicate columns. Because the target variable is athletes' final Olympic score (\"oly_event_score\"), I am filtering out all records that do no belong to an Olympian. After this, there are 102 total records. One record represents a skater's olympic results from one of the five Winter Olympic Games between 2006-2022 and information about that skater's international competitive history the 4 years preceding said Olympics. It's important to note that there will be duplicate skater names in the database as some skaters have performed at more than one Olympics. \n",
    "\n",
    "Only major international events are included at this time as these are likely to be the most representive of how a skater may perform at the Olympics considering the high pressure environment. It is certainly possible to expand on this exploration and modeling process in the future by adding skaters' scores from national level competitions and additional international events. "
   ]
  },
  {
   "cell_type": "code",
   "execution_count": 3,
   "id": "6a321b6a",
   "metadata": {},
   "outputs": [],
   "source": [
    "df = prepare.prepare_competition_data(df)\n",
    "#user-defined function which wrangles and cleans data optimally for this project"
   ]
  },
  {
   "cell_type": "code",
   "execution_count": null,
   "id": "0115e77d",
   "metadata": {},
   "outputs": [],
   "source": [
    "df.info()\n",
    "#displays overview of the prepared dataframe "
   ]
  },
  {
   "cell_type": "markdown",
   "id": "17a35a95",
   "metadata": {},
   "source": [
    "### Profile Report\n",
    "\n",
    "- This profile report is an in-depth analysis of all variables included in the dataframe. This is included to offer full transparency of the project data and process. "
   ]
  },
  {
   "cell_type": "code",
   "execution_count": null,
   "id": "a8c02594",
   "metadata": {},
   "outputs": [],
   "source": [
    "profile = ProfileReport(df, title=\"Pandas Profiling Report\")\n",
    "profile.to_widgets()\n",
    "#generates a profile report and embeds the report as widgets for an interactive user experience"
   ]
  },
  {
   "cell_type": "markdown",
   "id": "7497aa5b",
   "metadata": {},
   "source": [
    "<script src=\\\"img/profile.html\\\" width=800 height=800 />"
   ]
  },
  {
   "cell_type": "markdown",
   "id": "406ba810",
   "metadata": {},
   "source": [
    "<html><head>\n",
    "\n",
    "\n",
    "<!-- Load require.js. Delete this if your page already loads require.js -->\n",
    "<script src=\"https://cdnjs.cloudflare.com/ajax/libs/require.js/2.3.4/require.min.js\" integrity=\"sha256-Ae2Vz/4ePdIu6ZyI/5ZGsYnb+m0JlOmKPjt6XZ9JJkA=\" crossorigin=\"anonymous\"></script>\n",
    "<script src=\"https://unpkg.com/@jupyter-widgets/html-manager@*/dist/embed-amd.js\" crossorigin=\"anonymous\"></script>\n",
    "<script type=\"application/vnd.jupyter.widget-state+json\">\n",
    "{\n",
    "    \"version_major\": 2,\n",
    "    \"version_minor\": 0,\n",
    "    \"state\": {}\n",
    "}\n",
    "</script>\n",
    "</head>\n",
    "<body>\n",
    "\n",
    "\n",
    "</body>\n",
    "</html>\n"
   ]
  },
  {
   "cell_type": "markdown",
   "id": "70c1218c",
   "metadata": {},
   "source": [
    "### In this project, events included are:\n",
    "\n",
    "- Grand Prix Qualifiers (America, Canada, France, Japan, Russia, China)\n",
    "- Grand Prix Final\n",
    "- World Championships (because the World Championships take place after the Olympics in a given season, the world championship scores are included as taking place the season after they do. \n",
    "- Olympic Winter Games (specific competition data is included for the exploratory process only. The goal of modeling in this project is to predict Olympic scores based on competitive history so all Olympic data aside from the target variable will be dropped pre-modeling).\n",
    "\n",
    "### Non-Olympic scores in the 4 year period preceding the Olympics have been averaged together for each record in the following categories:\n",
    "\n",
    "- short program/free program/final event place\n",
    "- short program/free program/final event score\n",
    "- short program/free program/final components score\n",
    "- short program/free program/final elements score\n",
    "- average errors including deductions(falls and/or major error), under rotation jump error, costly jump error, major combination jump error, jump downgrade, illegal element, suspected errors, and all jump errors\n",
    "- average difficult jumping elements including quads, triple axels, and triple triple (note- this accounts for attempted jumps only)"
   ]
  },
  {
   "cell_type": "markdown",
   "id": "0926f458",
   "metadata": {},
   "source": [
    "### Exploratory Data Analysis & Statistical Testing\n",
    "\n",
    "- Create hypotheses regarding drivers of Olympic Event Scores.\n",
    "- Split data into 3 subsets for proper statistical analysis and modeling.\n",
    "- Use the train data to explore hypotheses.\n",
    "- Visualize bivariate and/or multivariate data and assess hypotheses using statistical tests."
   ]
  },
  {
   "cell_type": "markdown",
   "id": "3f17623d",
   "metadata": {},
   "source": [
    "### Hypotheses & Exploration Plan:\n",
    "\n",
    "> Jumping Difficulty- Based on basic domain knowledge, I believe skaters that demonstrate difficult jumping ability in international events will have higher Olympic score. While triple axels and quadruple jumps are not very common in womens figure skating, the point value for these elements is very high so executing one or more of these jumps in a program can really set the athlete apart. Triple-triple combinations, although much more common, are still not something all women Olympians can do with ease so I am considering it a \"difficult jump\" at this time. I create separate columns for these 3 difficult jumping elements to explore this hypothesis.\n",
    "\n",
    "> USA athletes and technical scores- I hypothesize that USA skaters have lower technical/elements scores, especially compared to Olympic medals. I am curious to see how far behind USA skaters are to the top perfomers in this category and whether or not there appears to be a trend throughout the seasons.\n",
    "\n",
    "> USA athletes and components scores - Historically, USA skaters have been known to have strong \"presentation.\" Under the former scoring system, the \"presentation score\" was closest to what the components score is currently, yet the components score is calculated with more objective criteria. Do USA athletes have an edge in the components score as they did in the presentation score? While I did not acquire old scores prior to 2004 for this project, I will compared components scores by country groupings to see where USA athletes stand. "
   ]
  },
  {
   "cell_type": "markdown",
   "id": "b11c5f4d",
   "metadata": {},
   "source": [
    "### Splitting Data\n",
    "\n",
    "Splitting data into 3 subsets (train, validate, test) for proper statistical analysis, exploration, modeling, and assessment.\n",
    "- Train: explore features and relationships to target variable, statistical analysis, build models \n",
    "- Validate: evaluate model performance compared to the train dataset, Assess potential overfitting\n",
    "- Test: run only the chosen top performing to ensure model performs as expected on unseen data before employing"
   ]
  },
  {
   "cell_type": "code",
   "execution_count": 4,
   "id": "dca9e966",
   "metadata": {},
   "outputs": [
    {
     "data": {
      "text/markdown": [
       "**number of train records: 56**"
      ],
      "text/plain": [
       "<IPython.core.display.Markdown object>"
      ]
     },
     "metadata": {},
     "output_type": "display_data"
    },
    {
     "data": {
      "text/markdown": [
       "**number of validate records: 25**"
      ],
      "text/plain": [
       "<IPython.core.display.Markdown object>"
      ]
     },
     "metadata": {},
     "output_type": "display_data"
    },
    {
     "data": {
      "text/markdown": [
       "**number of test records: 21**"
      ],
      "text/plain": [
       "<IPython.core.display.Markdown object>"
      ]
     },
     "metadata": {},
     "output_type": "display_data"
    }
   ],
   "source": [
    "train, validate, test = prepare.split_data(df)\n",
    "# Function that plits data into 3 subsets: train, validate, test. Random state specifying that data is split\n",
    "# with the exact same records when the code is re-run (useful for exploration and modeling, yet\n",
    "# I suggest dropping this when employing the model)"
   ]
  },
  {
   "cell_type": "markdown",
   "id": "7029d429",
   "metadata": {},
   "source": [
    "### Feature Correlation (contiuous variables) to Olympic event score"
   ]
  },
  {
   "cell_type": "code",
   "execution_count": null,
   "id": "9bbc6ba9",
   "metadata": {},
   "outputs": [],
   "source": [
    "train.drop(['oly_event_final_place', 'oly_short_score', 'oly_short_elements_score', 'oly_short_components_score', 'oly_free_elements_score', 'oly_free_components_score', 'oly_free_score', 'oly_event_score'], axis=1).corrwith(train['oly_event_score'], method='pearson').sort_values().plot(kind='barh', grid=True, figsize=(15,12), color='salmon')\n",
    "plt.title(\"Correlation with target\", fontweight='bold', size=20)\n",
    "plt.xticks(size=12, rotation=90)\n",
    "plt.yticks(size=12)\n",
    "plt.show()\n",
    "# graphs the correlation strength of features to the target variable"
   ]
  },
  {
   "cell_type": "markdown",
   "id": "c78e2e33",
   "metadata": {},
   "source": [
    "### Feature Correlation to Olympic Score Anaylsis\n",
    "Interestingly, most jumping errors do not seem to be highly correlated with Olympic scores. While further analysis is needed, it's possible that taking technical risks could pay off. Actually, suspected errors are positively correlated with Olympic scores. Suspected errors do not include a mandatory deduction, but I'm very curious why we'd see a any positive correlation here. Based on this graph, the only specific jumping attribute that shows a useful correlation to Olympic scores is average quad attempts. Very few women figure skaters have attemped quads in international competition and those that have attempted them have tended to be very technically advanced skaters so this correlation is not surprising. If anything, I'd expect the correlation to be higher. The triple axel is another jump that only a handful of advanced women skaters attempt and/or complete so it's surprising that there's such a weak correlation with Olympic scores. However, as mentioned, the advanced jump columns take attempts and not necessarily successful completion into account so it's probable that the correlation would look different if looking at these jumps landed cleanly only. Breaking these features down further in such ways is very possible with advanced (and more timely) data wrangling which I plan on pursuing shortly."
   ]
  },
  {
   "cell_type": "markdown",
   "id": "c4f78881",
   "metadata": {},
   "source": [
    "### Creating Columns to Separate USA athletes for exploration"
   ]
  },
  {
   "cell_type": "code",
   "execution_count": 5,
   "id": "7a84e032",
   "metadata": {},
   "outputs": [],
   "source": [
    "train[\"top\"] = train[\"country\"].apply(lambda country: explore.top_score(country))\n",
    "#uses pre-defined user function to create a column specifying if the record/skater is from a the USA, a country that\n",
    "#has medaled in Womens Figure Skating Olympics since 2006, or all other countries\n",
    "train[\"usa\"] = train[\"country\"].apply(lambda country: explore.usa_score(country))\n",
    "#uses pre-defined user function to create a column specifying if the record/skater is from a the USA or not"
   ]
  },
  {
   "cell_type": "markdown",
   "id": "1ec1ced2",
   "metadata": {},
   "source": [
    "### Graphing Correlation of Features to Target Variable through the lens of USA/Top Performing Countries/Other"
   ]
  },
  {
   "cell_type": "code",
   "execution_count": null,
   "id": "092aeb70",
   "metadata": {
    "scrolled": false
   },
   "outputs": [],
   "source": [
    "X1 = train[['event_final_place', 'event_score', 'short_place', 'short_score', 'short_elements_score',  'short_components_score', 'free_place', 'free_score', 'free_elements_score', 'free_components_score']]\n",
    "#creates df of Average Scores & Placements\n",
    "fig = plt.figure(1, figsize=(16,16))\n",
    "plt.title('Average Scores & Placements Grouped By Top Performing Countries', size=20, pad=40)\n",
    "for i, col in enumerate(X1.columns, 1): #loops through columns in df to plot said columns with target variable\n",
    "    fig.add_subplot(4,3,i)\n",
    "    sns.scatterplot(x=col, y='oly_event_score', data=train, hue='top', palette='gnuplot2_r')\n",
    "    plt.legend(fontsize=8, loc='best')\n",
    "    plt.title(col, size=15)\n",
    "    plt.subplots_adjust(left=0.1,\n",
    "                    bottom=0.1, \n",
    "                    right=0.9, \n",
    "                    top=0.9, \n",
    "                    wspace=0.4, \n",
    "                    hspace=0.6)\n",
    "\n",
    "plt.rcParams[\"axes.grid\"] = False\n",
    "plt.show(1)"
   ]
  },
  {
   "cell_type": "code",
   "execution_count": null,
   "id": "59ffc68a",
   "metadata": {
    "scrolled": false
   },
   "outputs": [],
   "source": [
    "X2 = train[['event_deductions', 'free_deductions', 'short_deductions', 'under_rotations', 'downgrades', 'edge_error', 'combo_no_credit', 'illegal_element', 'jump_errors_all', 'jump_errors_costly', 'suspected_edge_error', 'suspected_rotation_error']]\n",
    "#creates df of Average Jump Errors in non-Olympic Events\n",
    "fig = plt.figure(1, figsize=(16,16))\n",
    "plt.title('Average Jump Errors in non-Olympic Events Grouped By Top Performing Countries', size=20, pad=40)\n",
    "for i, col in enumerate(X2.columns, 1):  #loops through columns in df to plot said columns with target variable\n",
    "    fig.add_subplot(4,3,i)\n",
    "    sns.scatterplot(x=col, y='oly_event_score', data=train, hue='top', palette='gnuplot2_r')\n",
    "    plt.legend(fontsize=8, loc='best')\n",
    "    plt.title('Error Type: ' + col, size=15)\n",
    "    plt.subplots_adjust(left=0.1,\n",
    "                    bottom=0.1, \n",
    "                    right=0.9, \n",
    "                    top=0.9, \n",
    "                    wspace=0.4, \n",
    "                    hspace=0.6)\n",
    "\n",
    "plt.rcParams[\"axes.grid\"] = False\n",
    "fig.show()"
   ]
  },
  {
   "cell_type": "code",
   "execution_count": null,
   "id": "6c9741bd",
   "metadata": {},
   "outputs": [],
   "source": [
    "X3 = train[['triple_triple', 'triple_axel', 'quad']]\n",
    "#creates df of Average Difficult Jumps in non-Olympic Events\n",
    "fig = plt.figure(1, figsize=(18,4))\n",
    "plt.title('Average Difficult Jumps in non-Olympic Events Grouped By Top Performing Countries', size=20, pad=40)\n",
    "for i, col in enumerate(X3.columns, 1): #loops through columns in df to plot said columns with target variable\n",
    "    fig.add_subplot(1,3,i)\n",
    "    sns.scatterplot(x=col, y='oly_event_score', data=train, hue='top', palette='gnuplot2_r')\n",
    "    plt.legend(fontsize=8, loc='best')\n",
    "    plt.title('Error Type: ' + col, size=15)\n",
    "    plt.subplots_adjust(left=0.1,\n",
    "                    bottom=0.1, \n",
    "                    right=0.9, \n",
    "                    top=0.9, \n",
    "                    wspace=0.4, \n",
    "                    hspace=0.6)\n",
    "\n",
    "plt.rcParams[\"axes.grid\"] = False\n",
    "fig.show()"
   ]
  },
  {
   "cell_type": "code",
   "execution_count": null,
   "id": "02d0bdf2",
   "metadata": {},
   "outputs": [],
   "source": [
    "explore.scores_season(train)\n",
    "#pre-defined user function that displays mean scores in dataframes grouped by country data for comparison"
   ]
  },
  {
   "cell_type": "markdown",
   "id": "c7b06a53",
   "metadata": {},
   "source": [
    "### Analysis of USA scores vs. Top Scores vs. Other Scores\n",
    "\n",
    "Even when exluding Russia, the top performing skaters AND skaters that did not make the Olympic podium have a consistent increase across all categories where the US skaters have not(looking at mean scores). On average, US skaters are very competitive in the program components and short elements scores, but seem to lose with the free elements. One possible explanation could be endurance training. US skaters seem to be competitive in the short program both with elements and program components. This could mean that US skaters don't necessary lack technical abilities, but because the free program is longer and typically has 7 jumping elements (as opposed to 3 in the short program), endurance could possibly explain this. It would be interesting to break down the elements performed in the program and if there is a trend that may give more insight to this thoery."
   ]
  },
  {
   "cell_type": "markdown",
   "id": "43abe1d8",
   "metadata": {},
   "source": [
    "### Graphing Relationship of Season to Target Variable through the lens of USA/Top Performing Countries/Other"
   ]
  },
  {
   "cell_type": "code",
   "execution_count": null,
   "id": "738886d1",
   "metadata": {},
   "outputs": [],
   "source": [
    "sns.set_palette('Set2', 20)\n",
    "# sets colors for graph\n",
    "sns.lmplot(x='season', y='oly_event_score', data=train, scatter=True, hue='top', col=None, height=5.5, aspect=8.7/5.5)\n",
    "plt.title(\"Olympic Scores Compared to Season\")"
   ]
  },
  {
   "cell_type": "code",
   "execution_count": null,
   "id": "0018463c",
   "metadata": {
    "scrolled": false
   },
   "outputs": [],
   "source": [
    "explore.plot_scores(train)\n",
    "#pre-defined user function that plots the relationship of the first Olympic season under the IJS scoring system  \n",
    "#and the most recent Olympics to scores grouping by country data"
   ]
  },
  {
   "cell_type": "markdown",
   "id": "d3f727e6",
   "metadata": {},
   "source": [
    "### Statistical Testing\n",
    "- Utilizing ANOVA and/or T- test to determine if there is a difference between the target variable and country groups"
   ]
  },
  {
   "cell_type": "code",
   "execution_count": null,
   "id": "2189e1f8",
   "metadata": {},
   "outputs": [],
   "source": [
    "usa_score = train[train.top == 'usa'].oly_event_score\n",
    "top_score = train[train.top == 'top'].oly_event_score\n",
    "other_score = train[train.top == 'other'].oly_event_score\n",
    "#create 3 seperate dfs in preparation for ANOVA test"
   ]
  },
  {
   "cell_type": "code",
   "execution_count": null,
   "id": "5c83b9de",
   "metadata": {},
   "outputs": [],
   "source": [
    "print(usa_score.var())\n",
    "print(top_score.var())\n",
    "print(other_score.var())\n",
    "#shows variance of target variable in the 3 seperate groupings"
   ]
  },
  {
   "cell_type": "markdown",
   "id": "02e672de",
   "metadata": {},
   "source": [
    "### 2-sample, independent t-test\n",
    "- Looking at the variances, they are very different, so I will move to a 2-sample, independent t-test comparing one subgroup to all other records.\n",
    "- alpha = .05\n",
    "\n",
    "$H_0$: There is not a noteable difference between mean Olympic scores of USA athletes and all other athletes.\n",
    "\n",
    "$H_a$ : There is a noteable difference between mean Olympic scores of USA athletes and all other athletes."
   ]
  },
  {
   "cell_type": "code",
   "execution_count": null,
   "id": "b81584a5",
   "metadata": {},
   "outputs": [],
   "source": [
    "alpha = .05 #sets alpha\n",
    "usa_score = train[train.top == 'usa'].oly_event_score\n",
    "other_score = train[train.top != 'usa'].oly_event_score\n",
    "t, p = stats.ttest_ind(usa_score, other_score, equal_var=False)\n",
    "#runs ind t-test\n",
    "if p > alpha:\n",
    "    print(\"We fail to reject the null hypothesis\")\n",
    "else:\n",
    "    print(\"We reject the null hypothesis\")"
   ]
  },
  {
   "cell_type": "markdown",
   "id": "e82d7b42",
   "metadata": {},
   "source": [
    "$H_0$: There is not a noteable difference between mean Olympic scores of athletes from top performing countries and all other athletes.\n",
    "\n",
    "$H_a$ : There is a noteable difference between mean Olympic scores of athletes from top performing countries and all other athletes."
   ]
  },
  {
   "cell_type": "code",
   "execution_count": null,
   "id": "61fce8ed",
   "metadata": {
    "scrolled": false
   },
   "outputs": [],
   "source": [
    "top_score = train[train.top == 'top'].oly_event_score\n",
    "other_score = train[train.top != 'top'].oly_event_score\n",
    "t, p = stats.ttest_ind(top_score, other_score, equal_var=False)\n",
    "#runs ind t-test\n",
    "if p > alpha:\n",
    "    print(\"We fail to reject the null hypothesis\")\n",
    "else:\n",
    "    print(\"We reject the null hypothesis\")\n"
   ]
  },
  {
   "cell_type": "markdown",
   "id": "2f4bd44d",
   "metadata": {},
   "source": [
    "$H_0$: There is not a noteable difference between mean Olympic scores of athletes from non-top performing countries nor the USA and all other athletes.\n",
    "\n",
    "$H_a$ : There is a noteable difference between mean Olympic scores of athletes from non-top performing countries nor the USA and all other athletes."
   ]
  },
  {
   "cell_type": "code",
   "execution_count": null,
   "id": "7916ed1c",
   "metadata": {},
   "outputs": [],
   "source": [
    "other_score = train[train.top == 'other'].oly_event_score\n",
    "top_or_usa_score = train[train.top != 'other'].oly_event_score\n",
    "t, p = stats.ttest_ind(top_or_usa_score, other_score, equal_var=False)\n",
    "#runs ind t-test\n",
    "if p > alpha:\n",
    "    print(\"We fail to reject the null hypothesis\")\n",
    "else:\n",
    "    print(\"We reject the null hypothesis\")"
   ]
  },
  {
   "cell_type": "markdown",
   "id": "e28061ce",
   "metadata": {},
   "source": [
    "### T-Test Anaylsis : \n",
    "-There does appear to be a statistically significant difference of top performing countries to all others and non-top, non-USA to others, but not USA to others. This may be due to the USA performing very medicorely and blending in with others or potentially, this may be due to USA athletes differing greatly in competiteness from 2006 to 2022.  "
   ]
  },
  {
   "cell_type": "markdown",
   "id": "afeab8b7",
   "metadata": {},
   "source": [
    "### Pearsons R Correlation Tests\n",
    "- Because there seem to be several continuous features correlated to the target, I am looping through continuous columns to determine which features have a statistically significant correlation with the target"
   ]
  },
  {
   "cell_type": "code",
   "execution_count": 6,
   "id": "e428eed0",
   "metadata": {
    "scrolled": false
   },
   "outputs": [
    {
     "name": "stdout",
     "output_type": "stream",
     "text": [
      "Null Hypothesis: There is no correlation between between the Olympics event score and event_final_place\n",
      "Alternative Hypothesis : There is a correlation between between the Olympics event score and event_final_place \n"
     ]
    },
    {
     "data": {
      "text/markdown": [
       "<span style='color:None'>*We reject the null hypothesis. correlation strength: -0.58*</span>"
      ],
      "text/plain": [
       "<IPython.core.display.Markdown object>"
      ]
     },
     "metadata": {},
     "output_type": "display_data"
    },
    {
     "name": "stdout",
     "output_type": "stream",
     "text": [
      "-------------------------------------\n",
      "\n",
      "Null Hypothesis: There is no correlation between between the Olympics event score and short_score\n",
      "Alternative Hypothesis : There is a correlation between between the Olympics event score and short_score \n"
     ]
    },
    {
     "data": {
      "text/markdown": [
       "<span style='color:None'>**We reject the null hypothesis. HIGH CORRELATION strength: 0.85**</span>"
      ],
      "text/plain": [
       "<IPython.core.display.Markdown object>"
      ]
     },
     "metadata": {},
     "output_type": "display_data"
    },
    {
     "name": "stdout",
     "output_type": "stream",
     "text": [
      "-------------------------------------\n",
      "\n",
      "Null Hypothesis: There is no correlation between between the Olympics event score and short_place\n",
      "Alternative Hypothesis : There is a correlation between between the Olympics event score and short_place \n"
     ]
    },
    {
     "data": {
      "text/markdown": [
       "<span style='color:None'>*We reject the null hypothesis. correlation strength: -0.56*</span>"
      ],
      "text/plain": [
       "<IPython.core.display.Markdown object>"
      ]
     },
     "metadata": {},
     "output_type": "display_data"
    },
    {
     "name": "stdout",
     "output_type": "stream",
     "text": [
      "-------------------------------------\n",
      "\n",
      "Null Hypothesis: There is no correlation between between the Olympics event score and free_score\n",
      "Alternative Hypothesis : There is a correlation between between the Olympics event score and free_score \n"
     ]
    },
    {
     "data": {
      "text/markdown": [
       "<span style='color:None'>**We reject the null hypothesis. HIGH CORRELATION strength: 0.85**</span>"
      ],
      "text/plain": [
       "<IPython.core.display.Markdown object>"
      ]
     },
     "metadata": {},
     "output_type": "display_data"
    },
    {
     "name": "stdout",
     "output_type": "stream",
     "text": [
      "-------------------------------------\n",
      "\n",
      "Null Hypothesis: There is no correlation between between the Olympics event score and free_place\n",
      "Alternative Hypothesis : There is a correlation between between the Olympics event score and free_place \n"
     ]
    },
    {
     "data": {
      "text/markdown": [
       "<span style='color:None'>*We reject the null hypothesis. correlation strength: -0.58*</span>"
      ],
      "text/plain": [
       "<IPython.core.display.Markdown object>"
      ]
     },
     "metadata": {},
     "output_type": "display_data"
    },
    {
     "name": "stdout",
     "output_type": "stream",
     "text": [
      "-------------------------------------\n",
      "\n",
      "Null Hypothesis: There is no correlation between between the Olympics event score and event_score\n",
      "Alternative Hypothesis : There is a correlation between between the Olympics event score and event_score \n"
     ]
    },
    {
     "data": {
      "text/markdown": [
       "<span style='color:None'>**We reject the null hypothesis. HIGH CORRELATION strength: 0.85**</span>"
      ],
      "text/plain": [
       "<IPython.core.display.Markdown object>"
      ]
     },
     "metadata": {},
     "output_type": "display_data"
    },
    {
     "name": "stdout",
     "output_type": "stream",
     "text": [
      "-------------------------------------\n",
      "\n",
      "Null Hypothesis: There is no correlation between between the Olympics event score and short_elements_score\n",
      "Alternative Hypothesis : There is a correlation between between the Olympics event score and short_elements_score \n"
     ]
    },
    {
     "data": {
      "text/markdown": [
       "<span style='color:None'>**We reject the null hypothesis. HIGH CORRELATION strength: 0.8**</span>"
      ],
      "text/plain": [
       "<IPython.core.display.Markdown object>"
      ]
     },
     "metadata": {},
     "output_type": "display_data"
    },
    {
     "name": "stdout",
     "output_type": "stream",
     "text": [
      "-------------------------------------\n",
      "\n",
      "Null Hypothesis: There is no correlation between between the Olympics event score and short_elements_rank\n",
      "Alternative Hypothesis : There is a correlation between between the Olympics event score and short_elements_rank \n"
     ]
    },
    {
     "data": {
      "text/markdown": [
       "<span style='color:None'>*We reject the null hypothesis. correlation strength: -0.48*</span>"
      ],
      "text/plain": [
       "<IPython.core.display.Markdown object>"
      ]
     },
     "metadata": {},
     "output_type": "display_data"
    },
    {
     "name": "stdout",
     "output_type": "stream",
     "text": [
      "-------------------------------------\n",
      "\n",
      "Null Hypothesis: There is no correlation between between the Olympics event score and short_components_score\n",
      "Alternative Hypothesis : There is a correlation between between the Olympics event score and short_components_score \n"
     ]
    },
    {
     "data": {
      "text/markdown": [
       "<span style='color:None'>**We reject the null hypothesis. HIGH CORRELATION strength: 0.85**</span>"
      ],
      "text/plain": [
       "<IPython.core.display.Markdown object>"
      ]
     },
     "metadata": {},
     "output_type": "display_data"
    },
    {
     "name": "stdout",
     "output_type": "stream",
     "text": [
      "-------------------------------------\n",
      "\n",
      "Null Hypothesis: There is no correlation between between the Olympics event score and short_components_rank\n",
      "Alternative Hypothesis : There is a correlation between between the Olympics event score and short_components_rank \n"
     ]
    },
    {
     "data": {
      "text/markdown": [
       "<span style='color:None'>*We reject the null hypothesis. correlation strength: -0.55*</span>"
      ],
      "text/plain": [
       "<IPython.core.display.Markdown object>"
      ]
     },
     "metadata": {},
     "output_type": "display_data"
    },
    {
     "name": "stdout",
     "output_type": "stream",
     "text": [
      "-------------------------------------\n",
      "\n",
      "Null Hypothesis: There is no correlation between between the Olympics event score and free_elements_score\n",
      "Alternative Hypothesis : There is a correlation between between the Olympics event score and free_elements_score \n"
     ]
    },
    {
     "data": {
      "text/markdown": [
       "<span style='color:None'>**We reject the null hypothesis. HIGH CORRELATION strength: 0.81**</span>"
      ],
      "text/plain": [
       "<IPython.core.display.Markdown object>"
      ]
     },
     "metadata": {},
     "output_type": "display_data"
    },
    {
     "name": "stdout",
     "output_type": "stream",
     "text": [
      "-------------------------------------\n",
      "\n",
      "Null Hypothesis: There is no correlation between between the Olympics event score and free_elements_rank\n",
      "Alternative Hypothesis : There is a correlation between between the Olympics event score and free_elements_rank \n"
     ]
    },
    {
     "data": {
      "text/markdown": [
       "<span style='color:None'>*We reject the null hypothesis. correlation strength: -0.53*</span>"
      ],
      "text/plain": [
       "<IPython.core.display.Markdown object>"
      ]
     },
     "metadata": {},
     "output_type": "display_data"
    },
    {
     "name": "stdout",
     "output_type": "stream",
     "text": [
      "-------------------------------------\n",
      "\n",
      "Null Hypothesis: There is no correlation between between the Olympics event score and free_components_score\n",
      "Alternative Hypothesis : There is a correlation between between the Olympics event score and free_components_score \n"
     ]
    },
    {
     "data": {
      "text/markdown": [
       "<span style='color:None'>**We reject the null hypothesis. HIGH CORRELATION strength: 0.85**</span>"
      ],
      "text/plain": [
       "<IPython.core.display.Markdown object>"
      ]
     },
     "metadata": {},
     "output_type": "display_data"
    },
    {
     "name": "stdout",
     "output_type": "stream",
     "text": [
      "-------------------------------------\n",
      "\n",
      "Null Hypothesis: There is no correlation between between the Olympics event score and free_components_rank\n",
      "Alternative Hypothesis : There is a correlation between between the Olympics event score and free_components_rank \n"
     ]
    },
    {
     "data": {
      "text/markdown": [
       "<span style='color:None'>*We reject the null hypothesis. correlation strength: -0.58*</span>"
      ],
      "text/plain": [
       "<IPython.core.display.Markdown object>"
      ]
     },
     "metadata": {},
     "output_type": "display_data"
    },
    {
     "name": "stdout",
     "output_type": "stream",
     "text": [
      "-------------------------------------\n",
      "\n",
      "Null Hypothesis: There is no correlation between between the Olympics event score and free_deductions\n",
      "Alternative Hypothesis : There is a correlation between between the Olympics event score and free_deductions \n"
     ]
    },
    {
     "data": {
      "text/markdown": [
       "<span style='color:red'>*We fail to reject the null hypothesis*</span>"
      ],
      "text/plain": [
       "<IPython.core.display.Markdown object>"
      ]
     },
     "metadata": {},
     "output_type": "display_data"
    },
    {
     "name": "stdout",
     "output_type": "stream",
     "text": [
      "-------------------------------------\n",
      "\n",
      "Null Hypothesis: There is no correlation between between the Olympics event score and short_deductions\n",
      "Alternative Hypothesis : There is a correlation between between the Olympics event score and short_deductions \n"
     ]
    },
    {
     "data": {
      "text/markdown": [
       "<span style='color:red'>*We fail to reject the null hypothesis*</span>"
      ],
      "text/plain": [
       "<IPython.core.display.Markdown object>"
      ]
     },
     "metadata": {},
     "output_type": "display_data"
    },
    {
     "name": "stdout",
     "output_type": "stream",
     "text": [
      "-------------------------------------\n",
      "\n",
      "Null Hypothesis: There is no correlation between between the Olympics event score and event_deductions\n",
      "Alternative Hypothesis : There is a correlation between between the Olympics event score and event_deductions \n"
     ]
    },
    {
     "data": {
      "text/markdown": [
       "<span style='color:red'>*We fail to reject the null hypothesis*</span>"
      ],
      "text/plain": [
       "<IPython.core.display.Markdown object>"
      ]
     },
     "metadata": {},
     "output_type": "display_data"
    },
    {
     "name": "stdout",
     "output_type": "stream",
     "text": [
      "-------------------------------------\n",
      "\n",
      "Null Hypothesis: There is no correlation between between the Olympics event score and under_rotations\n",
      "Alternative Hypothesis : There is a correlation between between the Olympics event score and under_rotations \n"
     ]
    },
    {
     "data": {
      "text/markdown": [
       "<span style='color:red'>*We fail to reject the null hypothesis*</span>"
      ],
      "text/plain": [
       "<IPython.core.display.Markdown object>"
      ]
     },
     "metadata": {},
     "output_type": "display_data"
    },
    {
     "name": "stdout",
     "output_type": "stream",
     "text": [
      "-------------------------------------\n",
      "\n",
      "Null Hypothesis: There is no correlation between between the Olympics event score and downgrades\n",
      "Alternative Hypothesis : There is a correlation between between the Olympics event score and downgrades \n"
     ]
    },
    {
     "data": {
      "text/markdown": [
       "<span style='color:red'>*We fail to reject the null hypothesis*</span>"
      ],
      "text/plain": [
       "<IPython.core.display.Markdown object>"
      ]
     },
     "metadata": {},
     "output_type": "display_data"
    },
    {
     "name": "stdout",
     "output_type": "stream",
     "text": [
      "-------------------------------------\n",
      "\n",
      "Null Hypothesis: There is no correlation between between the Olympics event score and edge_error\n",
      "Alternative Hypothesis : There is a correlation between between the Olympics event score and edge_error \n"
     ]
    },
    {
     "data": {
      "text/markdown": [
       "<span style='color:red'>*We fail to reject the null hypothesis*</span>"
      ],
      "text/plain": [
       "<IPython.core.display.Markdown object>"
      ]
     },
     "metadata": {},
     "output_type": "display_data"
    },
    {
     "name": "stdout",
     "output_type": "stream",
     "text": [
      "-------------------------------------\n",
      "\n",
      "Null Hypothesis: There is no correlation between between the Olympics event score and suspected_edge_error\n",
      "Alternative Hypothesis : There is a correlation between between the Olympics event score and suspected_edge_error \n"
     ]
    },
    {
     "data": {
      "text/markdown": [
       "<span style='color:red'>*We fail to reject the null hypothesis*</span>"
      ],
      "text/plain": [
       "<IPython.core.display.Markdown object>"
      ]
     },
     "metadata": {},
     "output_type": "display_data"
    },
    {
     "name": "stdout",
     "output_type": "stream",
     "text": [
      "-------------------------------------\n",
      "\n",
      "Null Hypothesis: There is no correlation between between the Olympics event score and suspected_rotation_error\n",
      "Alternative Hypothesis : There is a correlation between between the Olympics event score and suspected_rotation_error \n"
     ]
    },
    {
     "data": {
      "text/markdown": [
       "<span style='color:red'>*We fail to reject the null hypothesis*</span>"
      ],
      "text/plain": [
       "<IPython.core.display.Markdown object>"
      ]
     },
     "metadata": {},
     "output_type": "display_data"
    },
    {
     "name": "stdout",
     "output_type": "stream",
     "text": [
      "-------------------------------------\n",
      "\n",
      "Null Hypothesis: There is no correlation between between the Olympics event score and combo_no_credit\n",
      "Alternative Hypothesis : There is a correlation between between the Olympics event score and combo_no_credit \n"
     ]
    },
    {
     "data": {
      "text/markdown": [
       "<span style='color:red'>*We fail to reject the null hypothesis*</span>"
      ],
      "text/plain": [
       "<IPython.core.display.Markdown object>"
      ]
     },
     "metadata": {},
     "output_type": "display_data"
    },
    {
     "name": "stdout",
     "output_type": "stream",
     "text": [
      "-------------------------------------\n",
      "\n",
      "Null Hypothesis: There is no correlation between between the Olympics event score and illegal_element\n",
      "Alternative Hypothesis : There is a correlation between between the Olympics event score and illegal_element \n"
     ]
    },
    {
     "data": {
      "text/markdown": [
       "<span style='color:red'>*We fail to reject the null hypothesis*</span>"
      ],
      "text/plain": [
       "<IPython.core.display.Markdown object>"
      ]
     },
     "metadata": {},
     "output_type": "display_data"
    },
    {
     "name": "stdout",
     "output_type": "stream",
     "text": [
      "-------------------------------------\n",
      "\n",
      "Null Hypothesis: There is no correlation between between the Olympics event score and jump_errors_all\n",
      "Alternative Hypothesis : There is a correlation between between the Olympics event score and jump_errors_all \n"
     ]
    },
    {
     "data": {
      "text/markdown": [
       "<span style='color:red'>*We fail to reject the null hypothesis*</span>"
      ],
      "text/plain": [
       "<IPython.core.display.Markdown object>"
      ]
     },
     "metadata": {},
     "output_type": "display_data"
    },
    {
     "name": "stdout",
     "output_type": "stream",
     "text": [
      "-------------------------------------\n",
      "\n",
      "Null Hypothesis: There is no correlation between between the Olympics event score and jump_errors_costly\n",
      "Alternative Hypothesis : There is a correlation between between the Olympics event score and jump_errors_costly \n"
     ]
    },
    {
     "data": {
      "text/markdown": [
       "<span style='color:red'>*We fail to reject the null hypothesis*</span>"
      ],
      "text/plain": [
       "<IPython.core.display.Markdown object>"
      ]
     },
     "metadata": {},
     "output_type": "display_data"
    },
    {
     "name": "stdout",
     "output_type": "stream",
     "text": [
      "-------------------------------------\n",
      "\n",
      "Null Hypothesis: There is no correlation between between the Olympics event score and triple_triple\n",
      "Alternative Hypothesis : There is a correlation between between the Olympics event score and triple_triple \n"
     ]
    },
    {
     "data": {
      "text/markdown": [
       "<span style='color:red'>*We fail to reject the null hypothesis*</span>"
      ],
      "text/plain": [
       "<IPython.core.display.Markdown object>"
      ]
     },
     "metadata": {},
     "output_type": "display_data"
    },
    {
     "name": "stdout",
     "output_type": "stream",
     "text": [
      "-------------------------------------\n",
      "\n",
      "Null Hypothesis: There is no correlation between between the Olympics event score and quad\n",
      "Alternative Hypothesis : There is a correlation between between the Olympics event score and quad \n"
     ]
    },
    {
     "data": {
      "text/markdown": [
       "<span style='color:None'>*We reject the null hypothesis. correlation strength: 0.47*</span>"
      ],
      "text/plain": [
       "<IPython.core.display.Markdown object>"
      ]
     },
     "metadata": {},
     "output_type": "display_data"
    },
    {
     "name": "stdout",
     "output_type": "stream",
     "text": [
      "-------------------------------------\n",
      "\n",
      "Null Hypothesis: There is no correlation between between the Olympics event score and triple_axel\n",
      "Alternative Hypothesis : There is a correlation between between the Olympics event score and triple_axel \n"
     ]
    },
    {
     "data": {
      "text/markdown": [
       "<span style='color:red'>*We fail to reject the null hypothesis*</span>"
      ],
      "text/plain": [
       "<IPython.core.display.Markdown object>"
      ]
     },
     "metadata": {},
     "output_type": "display_data"
    },
    {
     "name": "stdout",
     "output_type": "stream",
     "text": [
      "-------------------------------------\n",
      "\n",
      "Null Hypothesis: There is no correlation between between the Olympics event score and season\n",
      "Alternative Hypothesis : There is a correlation between between the Olympics event score and season \n"
     ]
    },
    {
     "data": {
      "text/markdown": [
       "<span style='color:None'>*We reject the null hypothesis. correlation strength: 0.56*</span>"
      ],
      "text/plain": [
       "<IPython.core.display.Markdown object>"
      ]
     },
     "metadata": {},
     "output_type": "display_data"
    },
    {
     "name": "stdout",
     "output_type": "stream",
     "text": [
      "-------------------------------------\n",
      "\n"
     ]
    }
   ],
   "source": [
    "explore.corr_tests(train)\n",
    "#runs correlation test on all continous features (with the exception of features that are influenced by the target)"
   ]
  },
  {
   "cell_type": "markdown",
   "id": "c8c53ff6",
   "metadata": {},
   "source": [
    "### Correlation Test Anaylsis: \n",
    "- These correlation tests are very useful in deciding which features I will use in modeling. I am cutting the statisical significance off at .4 at this time and will go ahead and use all features that have a 40% or greater correlation to the target (minus features that are directly influenced by the target- ie.other portions of the Olympic score) "
   ]
  },
  {
   "cell_type": "markdown",
   "id": "af9c0dac",
   "metadata": {},
   "source": [
    "### Modeling (Regression)"
   ]
  },
  {
   "cell_type": "markdown",
   "id": "d125fa7f",
   "metadata": {},
   "source": [
    "- In preparation for modeling, I will reset the index of the 3 dataframes (needed step as there are duplicate names due to some skaters going to more than one Olympics)"
   ]
  },
  {
   "cell_type": "code",
   "execution_count": 7,
   "id": "1680e80f",
   "metadata": {},
   "outputs": [],
   "source": [
    "train = train.reset_index()\n",
    "validate = validate.reset_index()\n",
    "test = test.reset_index()\n",
    "#resets index\n",
    "train = train.drop(columns=['index'])\n",
    "validate = validate.drop(columns=['index'])\n",
    "test = test.drop(columns=['index'])\n",
    "#drops unnessary column"
   ]
  },
  {
   "cell_type": "markdown",
   "id": "0ecc19f2",
   "metadata": {},
   "source": [
    "- Splitting all 3 datasets into X and y subsets "
   ]
  },
  {
   "cell_type": "code",
   "execution_count": 8,
   "id": "8904edf6",
   "metadata": {},
   "outputs": [],
   "source": [
    "X_train = train.drop(columns=['combo_no_credit', 'free_deductions' , 'short_deductions',  'event_deductions', 'under_rotations', 'downgrades' , 'edge_error', 'suspected_edge_error', 'suspected_rotation_error',\n",
    "'illegal_element' ,'jump_errors_all' ,'jump_errors_costly', 'triple_triple', 'triple_axel', 'skater_name','oly_event_final_place', 'oly_short_score', 'oly_short_elements_score',\n",
    "                             'oly_short_components_score', 'oly_free_elements_score', 'oly_free_components_score',\n",
    "                             'oly_free_score', 'oly_event_score', 'top', 'country', 'usa'])\n",
    "# creates dataframe that drops all column except the selected features for modeling\n",
    "y_train = train[['oly_event_score']]\n",
    "# creates dataframe of target variable (y) only\n",
    "\n",
    "X_validate = validate.drop(columns=['combo_no_credit', 'free_deductions' , 'short_deductions',  'event_deductions', 'under_rotations', 'downgrades' , 'edge_error', 'suspected_edge_error', 'suspected_rotation_error',\n",
    "'illegal_element' ,'jump_errors_all' ,'jump_errors_costly', 'triple_triple', 'triple_axel', 'skater_name','oly_event_final_place', 'oly_short_score', 'oly_short_elements_score',\n",
    "                             'oly_short_components_score', 'oly_free_elements_score', 'oly_free_components_score',\n",
    "                             'oly_free_score', 'oly_event_score','country'])\n",
    "y_validate = validate[['oly_event_score']]\n",
    "# repeat above for validate set\n",
    "\n",
    "X_test = test.drop(columns=['combo_no_credit', 'free_deductions' , 'short_deductions',  'event_deductions', 'under_rotations', 'downgrades' , 'edge_error', 'suspected_edge_error', 'suspected_rotation_error',\n",
    "'illegal_element' ,'jump_errors_all' ,'jump_errors_costly', 'triple_triple', 'triple_axel', 'skater_name','oly_event_final_place', 'oly_short_score', 'oly_short_elements_score',\n",
    "                             'oly_short_components_score', 'oly_free_elements_score', 'oly_free_components_score',\n",
    "                             'oly_free_score', 'oly_event_score', 'country'])\n",
    "y_test = test[['oly_event_score']]"
   ]
  },
  {
   "cell_type": "markdown",
   "id": "24a84510",
   "metadata": {},
   "source": [
    "- Scaling data in prepation for modeling"
   ]
  },
  {
   "cell_type": "code",
   "execution_count": 9,
   "id": "9ca3decb",
   "metadata": {},
   "outputs": [],
   "source": [
    "scaler = sklearn.preprocessing.StandardScaler()\n",
    "# employs the standars scaler\n",
    "scaler.fit(X_train)\n",
    "# inserts the selected features into the scaler\n",
    "\n",
    "X_train = data=scaler.transform(X_train)\n",
    "X_validate = data=scaler.transform(X_validate)\n",
    "X_test = data=scaler.transform(X_test)"
   ]
  },
  {
   "cell_type": "code",
   "execution_count": 10,
   "id": "570f93fa",
   "metadata": {},
   "outputs": [],
   "source": [
    "X_train = pd.DataFrame(X_train)\n",
    "X_validate = pd.DataFrame(X_validate)\n",
    "X_test = pd.DataFrame(X_test)\n",
    "#reassigns dataframes with scaled data"
   ]
  },
  {
   "cell_type": "markdown",
   "id": "51e9056e",
   "metadata": {},
   "source": [
    "- Establishing Baseline RMSE"
   ]
  },
  {
   "cell_type": "code",
   "execution_count": 11,
   "id": "6d2da0aa",
   "metadata": {},
   "outputs": [
    {
     "name": "stdout",
     "output_type": "stream",
     "text": [
      "Baseline RMSE\n",
      "Train/In-Sample:  31.26\n",
      "Baseline RMSE\n",
      "Validate/Out-of-Sample:  29.03\n"
     ]
    }
   ],
   "source": [
    "y_train['pred_mean'] = y_train.oly_event_score.mean()\n",
    "train['pred_mean'] = train.oly_event_score.mean()\n",
    "y_validate['pred_mean'] = y_validate.oly_event_score.mean()\n",
    "y_test['pred_mean'] = y_test.oly_event_score.mean()\n",
    "# calculates mean prior to computing rmse\n",
    "\n",
    "rmse_train = mean_squared_error(y_train.oly_event_score, y_train.pred_mean)**(1/2)\n",
    "rmse_validate = mean_squared_error(y_validate.oly_event_score, y_validate.pred_mean)**(1/2)\n",
    "# computes baseline RMSE for train and validate sets (square root of MSE)\n",
    "\n",
    "print(\"Baseline RMSE\\nTrain/In-Sample: \", round(rmse_train, 2)), \n",
    "print(\"Baseline RMSE\\nValidate/Out-of-Sample: \", round(rmse_validate, 2))"
   ]
  },
  {
   "cell_type": "markdown",
   "id": "096f0b43",
   "metadata": {},
   "source": [
    "### Linear Regression Model"
   ]
  },
  {
   "cell_type": "code",
   "execution_count": 12,
   "id": "bf6983c6",
   "metadata": {},
   "outputs": [
    {
     "name": "stdout",
     "output_type": "stream",
     "text": [
      "**OLS Linear Regression Performance**\n",
      "---------------------------------------\n",
      "RMSE for OLS using LinearRegression\n",
      "Training/In-Sample:  11.16\n",
      "---------------------------------------\n",
      "RMSE for OLS using LinearRegression\n",
      "Validation/Out-of-Sample:  17.84\n"
     ]
    }
   ],
   "source": [
    "lm = LinearRegression(normalize=True)\n",
    "# create the model\n",
    "\n",
    "lm.fit(X_train, y_train.oly_event_score)\n",
    "# fit the model to scaled training data\n",
    "\n",
    "y_train['value_predict_lm'] = lm.predict(X_train)\n",
    "# computes model predictions\n",
    "rmse_train = mean_squared_error(y_train.oly_event_score, y_train.value_predict_lm)**(1/2)\n",
    "# computes model rmse\n",
    "\n",
    "y_validate['value_predict_lm'] = lm.predict(X_validate)\n",
    "rmse_validate = mean_squared_error(y_validate.oly_event_score, y_validate.value_predict_lm)**(1/2)\n",
    "# comutes predictions and rmse with validate data\n",
    "\n",
    "print(\"**OLS Linear Regression Performance**\")\n",
    "print(\"---------------------------------------\")\n",
    "print(\"RMSE for OLS using LinearRegression\\nTraining/In-Sample: \", round(rmse_train, 2))\n",
    "print(\"---------------------------------------\")\n",
    "print(\"RMSE for OLS using LinearRegression\\nValidation/Out-of-Sample: \", round(rmse_validate, 2))"
   ]
  },
  {
   "cell_type": "markdown",
   "id": "7120b6c2",
   "metadata": {},
   "source": [
    "- The linear regression model shows a great reduction in RMSE, but I am skeptical of overfitting here. Especially with a somewhat small dataset, I'm really looking for similar RMSE scores for in sample and out of sample data"
   ]
  },
  {
   "cell_type": "markdown",
   "id": "cf737579",
   "metadata": {},
   "source": [
    "### Lasso Lars Regression Model"
   ]
  },
  {
   "cell_type": "code",
   "execution_count": 20,
   "id": "043872c7",
   "metadata": {},
   "outputs": [
    {
     "name": "stdout",
     "output_type": "stream",
     "text": [
      "**LARS Performance**\n",
      "---------------------------------------\n",
      "RMSE for Lars\n",
      "Training/In-Sample:  17.19\n",
      "---------------------------------------\n",
      "RMSE for Lars\n",
      "Out-of-Sample:  18.07\n"
     ]
    }
   ],
   "source": [
    "lars = LassoLars(alpha=1)\n",
    "# creates the model\n",
    "\n",
    "lars.fit(X_train, y_train.oly_event_score)\n",
    "# fit the model to scaled training data\n",
    "\n",
    "y_train['pred_lars'] = lars.predict(X_train)\n",
    "# computes model predictions\n",
    "rmse_train = mean_squared_error(y_train.oly_event_score, y_train.pred_lars)**(1/2)\n",
    "# computes model rmse\n",
    "\n",
    "y_validate['pred_lars'] = lars.predict(X_validate)\n",
    "rmse_validate = mean_squared_error(y_validate.oly_event_score, y_validate.pred_lars)**(1/2)\n",
    "# comutes predictions and rmse with validate data\n",
    "\n",
    "print(\"**LARS Performance**\")\n",
    "print(\"---------------------------------------\")\n",
    "print(\"RMSE for Lars\\nTraining/In-Sample: \", round(rmse_train, 2))\n",
    "print(\"---------------------------------------\")\n",
    "print(\"RMSE for Lars\\nOut-of-Sample: \", round(rmse_validate, 2))"
   ]
  },
  {
   "cell_type": "markdown",
   "id": "d31ac3f9",
   "metadata": {},
   "source": [
    "- The lasso lars regression model looks great when it comes to overfitting. This model performs better than baseline and should definitely be considered."
   ]
  },
  {
   "cell_type": "markdown",
   "id": "87a3d0d6",
   "metadata": {},
   "source": [
    "### Generalized Linear Model : Tweedie Regressor"
   ]
  },
  {
   "cell_type": "code",
   "execution_count": 19,
   "id": "ef0da791",
   "metadata": {},
   "outputs": [
    {
     "name": "stdout",
     "output_type": "stream",
     "text": [
      "**Generalized Linear Model Performance**\n",
      "---------------------------------------\n",
      "RMSE for GLM /In-Sample:  15.86\n",
      "---------------------------------------\n",
      "RMSE for GLM \n",
      "Validation/Out-of-Sample:  17.92\n"
     ]
    }
   ],
   "source": [
    "glm = TweedieRegressor(power= 2, alpha=3)\n",
    "# creates the model\n",
    "\n",
    "glm.fit(X_train, y_train.oly_event_score)\n",
    "# fit the model to scaled training data\n",
    "\n",
    "y_train['pred_value_glm'] = glm.predict(X_train)\n",
    "# computes model predictions\n",
    "rmse_train = mean_squared_error(y_train.oly_event_score, y_train.pred_value_glm)**(1/2)\n",
    "# computes model rmse\n",
    "\n",
    "y_validate['pred_value_glm'] = glm.predict(X_validate)\n",
    "rmse_validate = mean_squared_error(y_validate.oly_event_score, y_validate.pred_value_glm)**(1/2)\n",
    "# comutes predictions and rmse with validate data\n",
    "\n",
    "print(\"**Generalized Linear Model Performance**\")\n",
    "print(\"---------------------------------------\")\n",
    "print(\"RMSE for GLM /In-Sample: \", round(rmse_train, 2)), \n",
    "print(\"---------------------------------------\")\n",
    "print(\"RMSE for GLM \\nValidation/Out-of-Sample: \", round(rmse_validate, 2))"
   ]
  },
  {
   "cell_type": "markdown",
   "id": "19f69274",
   "metadata": {},
   "source": [
    "- The GLM Tweedie Regressor has the lowest RMSE values collectively for in sample and out of sample data. There is difference of 2 between the RMSE values so I am considering whether or not overfitting is present here. Because there is also a difference of 2 in the baseline RMSEs of train and validate, I think it's reasonable to accept this slight difference as normal and not likely due to overfitting. Taking all into considering, I am choosing the GLM model as the superior model at this time. "
   ]
  },
  {
   "cell_type": "markdown",
   "id": "e59330bd",
   "metadata": {},
   "source": [
    "### Chosen Model: GLM Tweedie Regressor \n",
    "- Running model with Test data to confirm performance"
   ]
  },
  {
   "cell_type": "code",
   "execution_count": 22,
   "id": "6f0bcfd1",
   "metadata": {},
   "outputs": [
    {
     "name": "stdout",
     "output_type": "stream",
     "text": [
      "**Generalized Linear Model Performance on Test Data**\n",
      "---------------------------------------\n",
      "RMSE : Test Data \n",
      "Testing/Out-of-Sample:  16.43\n"
     ]
    }
   ],
   "source": [
    "y_test['pred_value_glm'] = glm.predict(X_test)\n",
    "rmse_test = mean_squared_error(y_test.oly_event_score, y_test.pred_value_glm)**(1/2)\n",
    "\n",
    "print(\"**Generalized Linear Model Performance on Test Data**\")\n",
    "print(\"---------------------------------------\")\n",
    "print(\"RMSE : Test Data \\nTesting/Out-of-Sample: \", round(rmse_test, 2))"
   ]
  },
  {
   "cell_type": "markdown",
   "id": "05fad540",
   "metadata": {},
   "source": [
    "- The RMSE of test is in the middle of that of train and validate which is a great sign regarding the model's performance. "
   ]
  },
  {
   "cell_type": "code",
   "execution_count": 23,
   "id": "935bde67",
   "metadata": {},
   "outputs": [],
   "source": [
    "train['predictions'] = glm.predict(X_train)\n",
    "validate['predictions'] = glm.predict(X_validate)\n",
    "test['predictions'] = glm.predict(X_test)\n",
    "#creates columns on dataframes with glm predictions"
   ]
  },
  {
   "cell_type": "markdown",
   "id": "f93e4a0e",
   "metadata": {},
   "source": [
    "### Plotting Model Predictions"
   ]
  },
  {
   "cell_type": "code",
   "execution_count": 31,
   "id": "36684cb9",
   "metadata": {},
   "outputs": [
    {
     "data": {
      "image/png": "[encoded data removed]",
      "text/plain": [
       "<Figure size 1440x216 with 1 Axes>"
      ]
     },
     "metadata": {
      "needs_background": "light"
     },
     "output_type": "display_data"
    },
    {
     "data": {
      "image/png": "[encoded data removed]",
      "text/plain": [
       "<Figure size 1440x216 with 1 Axes>"
      ]
     },
     "metadata": {
      "needs_background": "light"
     },
     "output_type": "display_data"
    },
    {
     "data": {
      "image/png": "[encoded data removed]",
      "text/plain": [
       "<Figure size 1440x216 with 1 Axes>"
      ]
     },
     "metadata": {
      "needs_background": "light"
     },
     "output_type": "display_data"
    }
   ],
   "source": [
    "plt.rcParams[\"figure.figsize\"] = (20,3)\n",
    "fig, ax1 = plt.subplots()\n",
    "ax1.plot(train.oly_event_score, color='red', label='Actual')\n",
    "ax1.legend()\n",
    "\n",
    "ax1.plot(train.predictions , color='purple', label='Predicted_GLM')\n",
    "ax1.legend()\n",
    "\n",
    "ax1.plot(train.pred_mean , color='green', label='Baseline')\n",
    "ax1.legend()\n",
    "plt.title('Model Predictions vs. Actual and Baseline: Train')\n",
    "plt.show()\n",
    "\n",
    "fig, ax2 = plt.subplots()\n",
    "ax2.plot(validate.oly_event_score, color='red', label='Actual')\n",
    "ax2.legend()\n",
    "\n",
    "ax2.plot(validate.predictions , color='purple', label='Predicted_GLM')\n",
    "ax2.legend()\n",
    "\n",
    "ax2.plot(y_validate.pred_mean , color='green', label='Baseline')\n",
    "ax2.legend()\n",
    "plt.title('Model Predictions vs. Actual and Baseline: Validate')\n",
    "plt.show()\n",
    "\n",
    "fig, ax3 = plt.subplots()\n",
    "ax3.plot(test.oly_event_score, color='red', label='Actual')\n",
    "ax3.legend()\n",
    "\n",
    "ax3.plot(test.predictions , color='purple', label='Predicted_GLM')\n",
    "ax3.legend()\n",
    "\n",
    "ax3.plot(y_test.pred_mean , color='green', label='Baseline')\n",
    "ax3.legend()\n",
    "plt.title('Model Predictions vs. Actual and Baseline: Test')\n",
    "plt.show()\n",
    "#plots baseline, actual, and model predictions of all 3 dataframes"
   ]
  },
  {
   "cell_type": "markdown",
   "id": "d6be194c",
   "metadata": {},
   "source": [
    "- this graph demonstrates that the modeling process was successful and is exponentially better than baseline predictions"
   ]
  },
  {
   "cell_type": "markdown",
   "id": "485a9152",
   "metadata": {},
   "source": [
    "### Conclusion\n",
    "\n",
    "- I successfully created a machine learning regression model that improves predicted Olympic scores of women figure skaters with a 50% improvement from baseline predictions.\n",
    "\n",
    "- My analysis indicates that the top drivers of Olympic Scores are:\n",
    "     > - Athlete's 4 year international competitive history preceding the Olympics\n",
    "     > - Short Program Event Scores (components and elements)\n",
    "     > - Free Program Event Scores (components and elements)\n",
    "     > - Event placements\n",
    "     > - competitive season\n",
    "\n",
    "- My data exploration revealed that USA athletes' scores are lower than desired due to :\n",
    "     > - USA athletes have a lower margin of score improvment over the last 15 years compared to non-USA athletes\n",
    "     > - The elements portion of free program shows the worst margin of improvment for USA athletes \n",
    "     > - USA athletes still slightly outscore non-USA athletes in the components score, but if the trend over the last 15 years continues, USA athletes may fall behind in this category as well\n",
    "     > - USA athletes' element scores seem to be more problematic in the free program. Because the free program is longer than the short program, lack of athletic endurance is one possible explanation to explain this discrepancy.\n",
    "\n",
    "- Interestingly, the skater's 4 year average amount of technical jumping errors did not seem to be a factor contributing to Olympic scores. \n",
    "\n",
    "### Next Steps for Improving Predictions\n",
    "\n",
    "- I believe this project demonstrates great promise for the use of data science in improving training strategies and competition outcomes in US Figure Skating and I'm very excited to uncover this potential.\n",
    "\n",
    "- Next, I'll expand on this project by undertaking a similar exploration and modeling approach, but use data that is more training based instead of just competition data (ie. skaters' coaching team, location, training methods, etc.)\n",
    "\n",
    "- My ultimate goal is to build a model for coaches and skaters that will take into account a skater's element consistency and supply \"ideal program content\" - the elements that a skater should put in the program to maximize scoring potential based on a reasonab\n",
    "     \n",
    "- Explore additional home features, renovations, etc. that may drive tax assessed value\n",
    "- Continue to evaluate and improve current model as new data becomes available\n",
    "\n",
    "\n",
    "\n",
    "\n",
    "- I built and trained a Generalized Linear Model(Tweedie Regressor) which is able to improve baseline predicted Olympic scores by approximately 50%.\n",
    " \n",
    "- I can recommend employing this new model with reasonable confidence.\n",
    "\n"
   ]
  }
 ],
 "metadata": {
  "celltoolbar": "Raw Cell Format",
  "kernelspec": {
   "display_name": "Python 3 (ipykernel)",
   "language": "python",
   "name": "python3"
  },
  "language_info": {
   "codemirror_mode": {
    "name": "ipython",
    "version": 3
   },
   "file_extension": ".py",
   "mimetype": "text/x-python",
   "name": "python",
   "nbconvert_exporter": "python",
   "pygments_lexer": "ipython3",
   "version": "3.9.7"
  }
 },
 "nbformat": 4,
 "nbformat_minor": 5
}
