{
 "cells": [
  {
   "cell_type": "markdown",
   "id": "5b28df93",
   "metadata": {},
   "source": [
    "## Skating Score Project\n",
    "\n",
    "### Introduction: \n",
    "\n",
    "   Historically, figure skating has been a sport inwhich the United States has greatly excelled in the Olympic Winter Games. Sports that are judged on both technical merit and artisitc expression are challenging to judge objectively and figure skating is no exception. In 2004, the previous highly subjective figure skating scoring system was replaced with the International Judging System(IJS) which takes into account the minutiae of every skating program awarding a specific point value based on multiple calculations. Following this change, the United States has seen a drastic decrease in international accomplishment for women skaters representing the USA. \n",
    "\n",
    "   The recently 2022 Olympic winter games in Beijing marks 4 consecutive Olympics inwhich the US women have not been awarded a medal. Many critics of current state of international figure skating suggest that the medal drought is directly related to Russian domianance in womens figure skating. Russian figure skating has been under scrutiny for their questionable training tactics and with a recently doping scandal at the 2022 Beijing Olympics, it's more than reasonable for all other skating federations to reject Russian figure skating training tactics and put the wellbeing of athletes ahead of competitive victories However, can the 15 year medal drought be completed contributed to this? \n",
    "\n",
    "   In the four most recent Winter Olympic Games, at least one of the women figure skating medals has gone to an athlete from Japan, South Korea, Italy, or Canada. It's also worth noting that the United States is continuing to excel greatly in most figure skating disciplines (especially mens and ice dancing). This project is a data-driven alaysis of this project inwhich I explore trends that may offer insights to improve US womens figure skating scores at the Olympic Games. \n",
    "\n",
    "### Project Goals:\n",
    "\n",
    "- Construct a machine learning regression model that improves predicted Olympic scores of women figure skaters under the International Judging System (implemented in 2004).\n",
    "- Find the key drivers of Olympic event scores by anaylizing competition data of athletes prior to their Olympic performances.\n",
    "- Empower US figure skating athletes and coaches with information that may lead to positive training modifications.\n",
    "- Thoroughly document the process and key findings.\n",
    "- Prove the potentiality of utilizing the data science pipeline to better the sport of figure skating."
   ]
  },
  {
   "cell_type": "markdown",
   "id": "b1fbb37c",
   "metadata": {},
   "source": [
    "### Summary of Findings & Recommendations:\n",
    "- My analysis indicates that the top drivers of tax assessed home values are:\n",
    "     > - property size (square footage)\n",
    "     > - property's year built\n",
    "     > - bedroom count\n",
    "     > - bathroom count\n",
    "\n",
    "- I built and trained a Polynomial Regression model which is able to improve predicted tax assessed home values by ~ $80,000 (22% improved from baseline/previous predictions).\n",
    " \n",
    "- By utilizing this model with the top drivers of tax assessed home values , I can recommend employing this new model with reasonable confidence."
   ]
  },
  {
   "cell_type": "markdown",
   "id": "f333f4aa",
   "metadata": {},
   "source": [
    "### Data Acquisition & Preparation\n",
    "- Import necessary libraries\n",
    "- Import user defined functions (acquire.py, wrangle.py)\n",
    "- Data imported meets the following conditions:\n",
    "    > - Single family homes in Orange county, CA, Ventura, CA, or Los Angeles, CA\n",
    "    > - Had a transaction in 2017\n",
    "    > - Data available in zillow properties_2017 table"
   ]
  },
  {
   "cell_type": "code",
   "execution_count": 1,
   "id": "443fcc32",
   "metadata": {},
   "outputs": [],
   "source": [
    "import pandas as pd\n",
    "import numpy as np\n",
    "import seaborn as sns\n",
    "import matplotlib.pyplot as plt\n",
    "import requests\n",
    "import acquire\n",
    "import prepare\n",
    "import os\n",
    "from sklearn.model_selection import train_test_split\n",
    "\n",
    "import warnings\n",
    "warnings.filterwarnings(\"ignore\")\n",
    "\n",
    "from math import sqrt\n",
    "from scipy import stats\n",
    "\n",
    "import sklearn.preprocessing\n",
    "from sklearn.model_selection import train_test_split\n",
    "from scipy.stats import pearsonr, spearmanr\n",
    "\n",
    "from sklearn.cluster import DBSCAN\n",
    "from sklearn.cluster import KMeans\n",
    "\n",
    "from sklearn.metrics import mean_squared_error\n",
    "from sklearn.linear_model import LinearRegression, LassoLars, TweedieRegressor\n",
    "from sklearn.preprocessing import PolynomialFeatures\n",
    "from sklearn.impute import SimpleImputer\n",
    "\n",
    "pd.set_option('display.max_columns', None)\n",
    "pd.set_option('display.max_rows', None)\n",
    "pd.set_option('display.max_colwidth', 300)\n",
    "\n",
    "from IPython.display import Markdown, display\n",
    "\n",
    "np.random.seed(123)"
   ]
  },
  {
   "cell_type": "code",
   "execution_count": 7,
   "id": "088fcda8",
   "metadata": {},
   "outputs": [],
   "source": [
    "df = acquire.get_competition_data()\n",
    "# this is a user-defined function in acquire.py that pulls in selected data from skatingscore.com"
   ]
  },
  {
   "cell_type": "code",
   "execution_count": 8,
   "id": "4ee72808",
   "metadata": {},
   "outputs": [
    {
     "name": "stdout",
     "output_type": "stream",
     "text": [
      "<class 'pandas.core.frame.DataFrame'>\n",
      "RangeIndex: 1860 entries, 0 to 1859\n",
      "Data columns (total 41 columns):\n",
      " #   Column       Non-Null Count  Dtype  \n",
      "---  ------       --------------  -----  \n",
      " 0   Unnamed: 0   1860 non-null   int64  \n",
      " 1   Skater       1860 non-null   object \n",
      " 2   Nat_x        1860 non-null   object \n",
      " 3   SP           1103 non-null   object \n",
      " 4   SP.1         1860 non-null   float64\n",
      " 5   SP.2         1860 non-null   float64\n",
      " 6   FS           1065 non-null   object \n",
      " 7   FS.1         1858 non-null   float64\n",
      " 8   FS.2         1858 non-null   float64\n",
      " 9   Total        1085 non-null   object \n",
      " 10  Total.1      1860 non-null   object \n",
      " 11  season_x     1860 non-null   int64  \n",
      " 12  skater_name  1860 non-null   object \n",
      " 13  first_name   1860 non-null   object \n",
      " 14  #_x          1860 non-null   float64\n",
      " 15  Nat_y        1860 non-null   object \n",
      " 16  Combo Jump   1860 non-null   object \n",
      " 17  Solo Jump    1859 non-null   object \n",
      " 18  Axel         1860 non-null   object \n",
      " 19  TES_x        1860 non-null   float64\n",
      " 20  TES.1_x      1860 non-null   int64  \n",
      " 21  PCS_x        1860 non-null   float64\n",
      " 22  PCS.1_x      1860 non-null   int64  \n",
      " 23  TSS_x        1860 non-null   object \n",
      " 24  season_y     1860 non-null   int64  \n",
      " 25  #_y          1860 non-null   float64\n",
      " 26  Nat          1860 non-null   object \n",
      " 27  Elements     1860 non-null   object \n",
      " 28  TES_y        1860 non-null   float64\n",
      " 29  TES.1_y      1860 non-null   int64  \n",
      " 30  PCS_y        1860 non-null   float64\n",
      " 31  PCS.1_y      1860 non-null   int64  \n",
      " 32  TSS_y        1860 non-null   object \n",
      " 33  season       1860 non-null   int64  \n",
      " 34  event        1860 non-null   object \n",
      " 35  QA           24 non-null     float64\n",
      " 36  QA.1         24 non-null     float64\n",
      " 37  QB           24 non-null     float64\n",
      " 38  QB.1         24 non-null     float64\n",
      " 39  PR           18 non-null     float64\n",
      " 40  PR.1         18 non-null     float64\n",
      "dtypes: float64(16), int64(8), object(17)\n",
      "memory usage: 595.9+ KB\n"
     ]
    }
   ],
   "source": [
    "df.info()\n",
    "# shows a snapshot of all data/columns that may potentially be used prior to data wrangling."
   ]
  },
  {
   "cell_type": "code",
   "execution_count": 14,
   "id": "5dd70f27",
   "metadata": {},
   "outputs": [
    {
     "data": {
      "text/plain": [
       "113.64    1\n",
       "110.64    1\n",
       "76.00     1\n",
       "64.86     1\n",
       "84.64     1\n",
       "93.04     1\n",
       "82.86     1\n",
       "102.56    1\n",
       "101.74    1\n",
       "102.72    1\n",
       "117.12    1\n",
       "111.14    1\n",
       "97.68     1\n",
       "78.18     1\n",
       "77.54     1\n",
       "72.34     1\n",
       "81.64     1\n",
       "89.98     1\n",
       "89.32     1\n",
       "91.64     1\n",
       "94.60     1\n",
       "94.76     1\n",
       "97.56     1\n",
       "77.88     1\n",
       "Name: QB, dtype: int64"
      ]
     },
     "execution_count": 14,
     "metadata": {},
     "output_type": "execute_result"
    }
   ],
   "source": []
  },
  {
   "cell_type": "markdown",
   "id": "a8a7c7a9",
   "metadata": {},
   "source": [
    "### Initial Data - \n",
    "I strategically acquired data on international-level women figure skaters over since 2004. In the next steps, I will label columns much more clearly so those without specific domain knowledge will be able understand this anaylsis much easier. TES, PCS, TSS, etc. are abbreviated parts of the skating score and as I acquired and joined the data together, we can see that there are many duplicate columns. Because the target variable is athletes' final Olympic score (\"oly_event_score\"), I am filtering out all records that do no belong to an Olympian. After this, there are 102 total records. One record represents a skater's olympic results from one of the five Winter Olympic Games between 2006-2022 and information about that skater's international competitive history the 4 years preceding said Olympics. It's important to note that there will be duplicate skater names in the database as some skaters have performed at more than one Olympics. \n",
    "\n",
    "Only major international events are included at this time as these are likely to be the most representive of how a skater may perform at the Olympics considering the high pressure environment. It is certainly possible to expand on this exploration and modeling process in the future by adding skaters' scores from national level competitions and additional international events. "
   ]
  },
  {
   "cell_type": "code",
   "execution_count": 5,
   "id": "0476fa39",
   "metadata": {},
   "outputs": [],
   "source": [
    "df = prepare.prepare_competition_data(df)"
   ]
  },
  {
   "cell_type": "code",
   "execution_count": 6,
   "id": "6c1ae3a8",
   "metadata": {},
   "outputs": [
    {
     "name": "stdout",
     "output_type": "stream",
     "text": [
      "<class 'pandas.core.frame.DataFrame'>\n",
      "Int64Index: 102 entries, 0 to 21\n",
      "Data columns (total 40 columns):\n",
      " #   Column                      Non-Null Count  Dtype  \n",
      "---  ------                      --------------  -----  \n",
      " 0   skater_name                 102 non-null    object \n",
      " 1   event_final_place           102 non-null    float64\n",
      " 2   short_score                 102 non-null    float64\n",
      " 3   short_place                 102 non-null    float64\n",
      " 4   free_score                  102 non-null    float64\n",
      " 5   free_place                  102 non-null    float64\n",
      " 6   event_score                 102 non-null    float64\n",
      " 7   short_elements_score        102 non-null    float64\n",
      " 8   short_elements_rank         102 non-null    float64\n",
      " 9   short_components_score      102 non-null    float64\n",
      " 10  short_components_rank       102 non-null    float64\n",
      " 11  free_elements_score         102 non-null    float64\n",
      " 12  free_elements_rank          102 non-null    float64\n",
      " 13  free_components_score       102 non-null    float64\n",
      " 14  free_components_rank        102 non-null    float64\n",
      " 15  free_deductions             102 non-null    float64\n",
      " 16  short_deductions            102 non-null    float64\n",
      " 17  event_deductions            102 non-null    float64\n",
      " 18  under_rotations             102 non-null    float64\n",
      " 19  downgrades                  102 non-null    float64\n",
      " 20  edge_error                  102 non-null    float64\n",
      " 21  suspected_edge_error        102 non-null    float64\n",
      " 22  suspected_rotation_error    102 non-null    float64\n",
      " 23  combo_no_credit             102 non-null    float64\n",
      " 24  illegal_element             102 non-null    float64\n",
      " 25  jump_errors_all             102 non-null    float64\n",
      " 26  jump_errors_costly          102 non-null    float64\n",
      " 27  triple_triple               102 non-null    float64\n",
      " 28  quad                        102 non-null    float64\n",
      " 29  triple_axel                 102 non-null    float64\n",
      " 30  country                     102 non-null    object \n",
      " 31  oly_event_final_place       102 non-null    float64\n",
      " 32  oly_short_score             102 non-null    float64\n",
      " 33  oly_short_elements_score    102 non-null    float64\n",
      " 34  oly_short_components_score  102 non-null    float64\n",
      " 35  oly_free_elements_score     102 non-null    float64\n",
      " 36  oly_free_components_score   102 non-null    float64\n",
      " 37  oly_free_score              102 non-null    float64\n",
      " 38  oly_event_score             102 non-null    float64\n",
      " 39  season                      102 non-null    int64  \n",
      "dtypes: float64(37), int64(1), object(2)\n",
      "memory usage: 32.7+ KB\n"
     ]
    }
   ],
   "source": [
    "df.info()"
   ]
  },
  {
   "cell_type": "markdown",
   "id": "af45825f",
   "metadata": {},
   "source": [
    "### In this project, events included are:\n",
    "\n",
    "- Grand Prix Qualifiers (America, Canada, France, Japan, Russia, China)\n",
    "- Grand Prix Final\n",
    "- World Championships (because the World Championships take place after the Olympics in a given season, the world championship scores are included as taking place the season after they do. \n",
    "- Olympic Winter Games (specific competition data is included for the exploratory process only. The goal of modeling in this project is to predict Olympic scores based on competitive history so all Olympic data aside from the target variable will be dropped pre-modeling).\n",
    "\n",
    "### Non-Olympic scores in the 4 year period preceding the Olympics have been averaged together for each record in the following categories:\n",
    "\n",
    "- short program/free program/final event place\n",
    "- short program/free program/final event score\n",
    "- short program/free program/final components score\n",
    "- short program/free program/final elements score\n",
    "- average errors including deductions(falls and/or major error), under rotation jump error, costly jump error, major combination jump error, jump downgrade, illegal element, suspected errors, and all jump errors\n",
    "- average difficult jumping elements including quads, triple axels, and triple triple (note- this accounts for attempted jumps only)"
   ]
  },
  {
   "cell_type": "code",
   "execution_count": null,
   "id": "9378d9d5",
   "metadata": {},
   "outputs": [],
   "source": []
  }
 ],
 "metadata": {
  "kernelspec": {
   "display_name": "Python 3 (ipykernel)",
   "language": "python",
   "name": "python3"
  },
  "language_info": {
   "codemirror_mode": {
    "name": "ipython",
    "version": 3
   },
   "file_extension": ".py",
   "mimetype": "text/x-python",
   "name": "python",
   "nbconvert_exporter": "python",
   "pygments_lexer": "ipython3",
   "version": "3.9.7"
  }
 },
 "nbformat": 4,
 "nbformat_minor": 5
}
