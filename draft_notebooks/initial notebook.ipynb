{
 "cells": [
  {
   "cell_type": "code",
   "execution_count": 1,
   "id": "b0c94ae1",
   "metadata": {},
   "outputs": [],
   "source": [
    "import pandas as pd\n",
    "import numpy\n",
    "import requests\n",
    "import acquire\n",
    "import prepare\n",
    "import os\n",
    "from sklearn.model_selection import train_test_split"
   ]
  },
  {
   "cell_type": "code",
   "execution_count": 2,
   "id": "0049ce85",
   "metadata": {},
   "outputs": [],
   "source": [
    "df = acquire.get_competition_data()"
   ]
  },
  {
   "cell_type": "code",
   "execution_count": null,
   "id": "4d1a4911",
   "metadata": {},
   "outputs": [],
   "source": [
    "df = prepare.prepare_competition_data(df)"
   ]
  },
  {
   "cell_type": "code",
   "execution_count": null,
   "id": "4fd3f87a",
   "metadata": {},
   "outputs": [],
   "source": [
    "df.info()"
   ]
  },
  {
   "cell_type": "code",
   "execution_count": null,
   "id": "864a2985",
   "metadata": {},
   "outputs": [],
   "source": [
    "#steps for prepare"
   ]
  },
  {
   "cell_type": "code",
   "execution_count": 4,
   "id": "acb8bc80",
   "metadata": {},
   "outputs": [],
   "source": [
    "df = df.drop(columns=['QA', 'QA.1', 'QB', 'QB.1', 'PR', 'PR.1', 'Nat_x', 'Nat_y', 'season_x', 'season_y', '#_x', '#_y'])\n",
    "df['SP'] = df.SP.fillna('no_best')\n",
    "df['FS'] = df.FS.fillna('no_best')"
   ]
  },
  {
   "cell_type": "code",
   "execution_count": null,
   "id": "3c016c2a",
   "metadata": {},
   "outputs": [],
   "source": [
    "#df[['skater_name','event','Unnamed: 0']]"
   ]
  },
  {
   "cell_type": "code",
   "execution_count": 5,
   "id": "d3a78fa5",
   "metadata": {},
   "outputs": [],
   "source": [
    "df['Solo Jump'] = df['Solo Jump'].fillna('3Lz')"
   ]
  },
  {
   "cell_type": "code",
   "execution_count": 6,
   "id": "6e65f27d",
   "metadata": {},
   "outputs": [],
   "source": [
    "df['Total'] = df['Total'].fillna('no_best')"
   ]
  },
  {
   "cell_type": "code",
   "execution_count": 7,
   "id": "f8e9b2e9",
   "metadata": {},
   "outputs": [],
   "source": [
    "df = df.dropna()"
   ]
  },
  {
   "cell_type": "code",
   "execution_count": null,
   "id": "12f2e06d",
   "metadata": {},
   "outputs": [],
   "source": [
    "#df = df.drop(columns=['Nat_x', 'Nat_y', 'season_x', '#_x', '#_y', 'TSS_x', 'TSS_y'])"
   ]
  },
  {
   "cell_type": "code",
   "execution_count": null,
   "id": "82c9896e",
   "metadata": {},
   "outputs": [],
   "source": []
  },
  {
   "cell_type": "code",
   "execution_count": 8,
   "id": "ef84c9f5",
   "metadata": {},
   "outputs": [],
   "source": [
    "df.rename(columns={'Skater':'last_name', 'SP': 'short_best', 'SP.1': 'short_score', 'SP.2': 'short_place', 'Total': 'event_best', 'Total.1': 'event_score', 'Unnamed: 0': 'event_place',  'Combo Jump': 'short_combo_jump', 'Solo Jump': 'short_solo_jump', 'Axel': 'short_axel_jump', 'TES_x': 'short_elements_score', 'TES.1_x': 'short_elements_rank', 'PCS_x': 'short_components_score', 'PCS.1_x': 'short_components_rank', 'TES_y': 'free_elements_score', 'TES.1_y': 'free_elements_rank', 'PCS_y': 'free_components_score', 'PCS.1_y': 'free_components_rank', 'FS': 'free_best', 'FS.1': 'free_score', 'FS.2': 'free_place', 'Nat': 'country', 'Elements': 'free_elements', 'TSS_x': 'short_overall', 'TSS_y': 'free_overall'}, inplace=True)"
   ]
  },
  {
   "cell_type": "code",
   "execution_count": null,
   "id": "1bb707a4",
   "metadata": {},
   "outputs": [],
   "source": [
    "#'FS': 'free_best', 'FS.1': 'free_score', 'FS.2': 'free_place', 'Nat': 'country', 'Elements': 'free_elements'"
   ]
  },
  {
   "cell_type": "code",
   "execution_count": 9,
   "id": "09b52220",
   "metadata": {},
   "outputs": [],
   "source": [
    "df['short_best'] = df['short_best'].replace({'PB': 'skater_best', 'SB': 'skater_season_best'})\n",
    "df['free_best'] = df['free_best'].replace({'PB': 'skater_best', 'SB': 'skater_season_best'})"
   ]
  },
  {
   "cell_type": "code",
   "execution_count": 10,
   "id": "904ad999",
   "metadata": {},
   "outputs": [],
   "source": [
    "olympic_skaters = df.skater_name[df.event == 'olympics'].unique()\n",
    "df['olympian'] = df.apply(lambda x: True if x.skater_name in olympic_skaters else False, axis=1)"
   ]
  },
  {
   "cell_type": "code",
   "execution_count": null,
   "id": "ab8473bb",
   "metadata": {},
   "outputs": [],
   "source": []
  },
  {
   "cell_type": "code",
   "execution_count": 21,
   "id": "7ea3a3b6",
   "metadata": {},
   "outputs": [],
   "source": [
    "df_oly = df[df['olympian'] == True]"
   ]
  },
  {
   "cell_type": "code",
   "execution_count": null,
   "id": "13711648",
   "metadata": {},
   "outputs": [],
   "source": [
    "df_oly"
   ]
  },
  {
   "cell_type": "code",
   "execution_count": 12,
   "id": "850ac64b",
   "metadata": {},
   "outputs": [],
   "source": [
    "df_oly = df_oly.replace({'<<':'@'}, regex=True)"
   ]
  },
  {
   "cell_type": "code",
   "execution_count": 24,
   "id": "0812ab83",
   "metadata": {},
   "outputs": [
    {
     "name": "stderr",
     "output_type": "stream",
     "text": [
      "/var/folders/s4/hmz6ljm533vgpm_bhv59yw0m0000gn/T/ipykernel_75747/434371037.py:1: SettingWithCopyWarning: \n",
      "A value is trying to be set on a copy of a slice from a DataFrame.\n",
      "Try using .loc[row_indexer,col_indexer] = value instead\n",
      "\n",
      "See the caveats in the documentation: https://pandas.pydata.org/pandas-docs/stable/user_guide/indexing.html#returning-a-view-versus-a-copy\n",
      "  df_oly['free_elements'] = df_oly.loc[:, ('free_elements')].replace({'x':'#'})\n"
     ]
    }
   ],
   "source": [
    "#df_oly['free_elements'] = df_oly.loc[:, ('free_elements')].replace({'x':'#'})"
   ]
  },
  {
   "cell_type": "code",
   "execution_count": null,
   "id": "4118100b",
   "metadata": {},
   "outputs": [],
   "source": []
  },
  {
   "cell_type": "code",
   "execution_count": 14,
   "id": "b3bb1b03",
   "metadata": {},
   "outputs": [],
   "source": [
    "df_oly['free_deductions'] = (df_oly['free_overall'].str[1:2]).astype(int)\n",
    "df_oly['short_deductions'] = (df_oly['short_overall'].str[1:2]).astype(int)\n",
    "df_oly['event_deductions'] = df_oly['short_deductions'] + df_oly['free_deductions']"
   ]
  },
  {
   "cell_type": "code",
   "execution_count": 15,
   "id": "880b6bae",
   "metadata": {},
   "outputs": [],
   "source": [
    "df_oly['free_elements'] = df_oly['free_elements'].replace({'q':'~'}, regex=True)"
   ]
  },
  {
   "cell_type": "code",
   "execution_count": null,
   "id": "7c6bd790",
   "metadata": {},
   "outputs": [],
   "source": [
    "df_oly.short_combo_jump.tail(20)"
   ]
  },
  {
   "cell_type": "code",
   "execution_count": 16,
   "id": "a5edafcd",
   "metadata": {},
   "outputs": [],
   "source": [
    "df_oly['free_elements'] = df_oly['free_elements'].replace({'e':'$'}, regex=True)\n",
    "df_oly['short_combo_jump'] = df_oly['short_combo_jump'].replace({'e':'$'}, regex=True)\n",
    "df_oly['short_axel_jump'] = df_oly['short_axel_jump'].replace({'e':'$'}, regex=True)\n",
    "df_oly['short_solo_jump'] = df_oly['short_solo_jump'].replace({'e':'$'}, regex=True)"
   ]
  },
  {
   "cell_type": "code",
   "execution_count": null,
   "id": "e820b09e",
   "metadata": {},
   "outputs": [],
   "source": [
    "df_oly.free_elements"
   ]
  },
  {
   "cell_type": "code",
   "execution_count": 17,
   "id": "c76be613",
   "metadata": {},
   "outputs": [],
   "source": [
    "df_oly['under_rotations'] = df_oly.apply(lambda x: x.str.contains(\"\\<\"), axis=1).sum(axis=1)\n",
    "df_oly['downgrades'] = df_oly.apply(lambda x: x.str.contains(\"\\@\"), axis=1).sum(axis=1)\n",
    "df_oly['time_bonus_elements'] = df_oly.apply(lambda x: x.str.contains(\"#\"), axis=1).sum(axis=1)\n",
    "df_oly['edge_error'] = df_oly.apply(lambda x: x.str.contains(\"\\$\"), axis=1).sum(axis=1)\n",
    "df_oly['suspected_edge_error'] =  df_oly.apply(lambda x: x.str.contains(\"\\!\"), axis=1).sum(axis=1)\n",
    "df_oly['suspected_rotation_error'] = df_oly.apply(lambda x: x.str.contains('\\~'), axis=1).sum(axis=1)\n",
    "df_oly['combo_no_credit'] =  df_oly.apply(lambda x: x.str.contains(\"\\+COMBO\"), axis=1).sum(axis=1)\n",
    "df_oly['illegal_element'] =  df_oly.apply(lambda x: x.str.contains(\"\\*\"), axis=1).sum(axis=1)\n"
   ]
  },
  {
   "cell_type": "code",
   "execution_count": 19,
   "id": "e1d37a81",
   "metadata": {},
   "outputs": [
    {
     "data": {
      "text/plain": [
       "0.0    542\n",
       "1.0    380\n",
       "2.0    174\n",
       "3.0     30\n",
       "4.0      1\n",
       "Name: under_rotations, dtype: int64"
      ]
     },
     "execution_count": 19,
     "metadata": {},
     "output_type": "execute_result"
    }
   ],
   "source": [
    "df_oly['under_rotations'].value_counts()"
   ]
  },
  {
   "cell_type": "code",
   "execution_count": null,
   "id": "17a15c43",
   "metadata": {},
   "outputs": [],
   "source": [
    "df_oly['time_bonus_elements'] = df_oly.apply(lambda x: x.str.contains(\"##\"), axis=1).sum(axis=1)"
   ]
  },
  {
   "cell_type": "code",
   "execution_count": null,
   "id": "124286dd",
   "metadata": {},
   "outputs": [],
   "source": [
    "df_oly['under_rotations'] = df_oly['under_rotations'].astype(int)\n",
    "df_oly['downgrades'] = df_oly['downgrades'].astype(int)\n",
    "df_oly['time_bonus_elements'] = df_oly['time_bonus_elements'].astype(int)\n",
    "df_oly['edge_error'] = df_oly['edge_error'].astype(int)\n",
    "df_oly['suspected_edge_error'] =  df_oly['suspected_edge_error'].astype(int)\n",
    "df_oly['suspected_rotation_error'] = df_oly['suspected_rotation_error'].astype(int)\n",
    "df_oly['combo_no_credit'] =  df_oly['combo_no_credit'].astype(int)\n",
    "df_oly['illegal_element'] =  df_oly['illegal_element'].astype(int)\n",
    "df_oly['event_deductions'] = df_oly['event_deductions'].astype(int)"
   ]
  },
  {
   "cell_type": "code",
   "execution_count": null,
   "id": "7b1b428a",
   "metadata": {},
   "outputs": [],
   "source": [
    "df_oly['jump_errors_all'] = df_oly['under_rotations'] + df_oly['downgrades'] + df_oly['edge_error'] + df_oly['suspected_edge_error'] + df_oly['suspected_rotation_error'] + df_oly['combo_no_credit'] + df_oly['illegal_element'] + df_oly['event_deductions']"
   ]
  },
  {
   "cell_type": "code",
   "execution_count": null,
   "id": "370ec656",
   "metadata": {},
   "outputs": [],
   "source": [
    "df_oly['jump_errors_costly'] = df_oly['downgrades'] + df_oly['combo_no_credit'] + df_oly['event_deductions']"
   ]
  },
  {
   "cell_type": "code",
   "execution_count": null,
   "id": "8f5166ab",
   "metadata": {},
   "outputs": [],
   "source": [
    "df_oly.country.dtype"
   ]
  },
  {
   "cell_type": "code",
   "execution_count": null,
   "id": "11341cf9",
   "metadata": {},
   "outputs": [],
   "source": [
    "df_oly['country_flag'] = df_oly['country']"
   ]
  },
  {
   "cell_type": "code",
   "execution_count": null,
   "id": "0f0bece2",
   "metadata": {},
   "outputs": [],
   "source": [
    "df_oly['country'] = df_oly.country_flag.replace({'🇯🇵': 'japan', '🇺🇸': 'usa', '🇷🇺': 'russia', '🇨🇦': 'canada',\n",
    "                                           '🇰🇷': 'south_korea', '🇮🇹': 'italy', '🇨🇳': 'china',\n",
    "                                            '🇫🇮': 'finland', '🇭🇺': 'hungary', '🇬🇪': 'georgia',\n",
    "                                            '🇩🇪': 'germany', '🇨🇭':'switzerland', '🇫🇷':'france',\n",
    "                                            '🇦🇺': 'australia', '🇪🇪': 'estonia', '🇰🇿':'kazakhstan',\n",
    "                                            '🇺🇦': 'ukraine', '🇺🇿': 'uzbekistan', '🇸🇰': 'slovakia',\n",
    "                                            '🇭🇷': 'croatia', '🇹🇷': 'turkey', '🇦🇿': 'azerbaijan',\n",
    "                                            '🇧🇪': 'belgium', '🇨🇿':'czech_republic', '🇪🇸': 'spain',\n",
    "                                            '🇵🇱': 'poland', '🇦🇹': 'austria', '🇧🇾': 'belarus',\n",
    "                                            '🇧🇬': 'bulgaria', '🇧🇷': 'brazil', '🇱🇺': 'luxembourg'})"
   ]
  },
  {
   "cell_type": "code",
   "execution_count": null,
   "id": "00ce52a7",
   "metadata": {},
   "outputs": [],
   "source": [
    "df_oly['country'].value_counts()"
   ]
  },
  {
   "cell_type": "code",
   "execution_count": null,
   "id": "c2443f60",
   "metadata": {},
   "outputs": [],
   "source": [
    "df_oly.info()"
   ]
  },
  {
   "cell_type": "code",
   "execution_count": null,
   "id": "4f8284bf",
   "metadata": {},
   "outputs": [],
   "source": []
  },
  {
   "cell_type": "code",
   "execution_count": null,
   "id": "80abf690",
   "metadata": {},
   "outputs": [],
   "source": []
  },
  {
   "cell_type": "code",
   "execution_count": null,
   "id": "4aa4ecff",
   "metadata": {},
   "outputs": [],
   "source": []
  },
  {
   "cell_type": "code",
   "execution_count": null,
   "id": "3e07ac0b",
   "metadata": {},
   "outputs": [],
   "source": [
    "train, test = train_test_split(df_oly, test_size=.2, random_state=123)"
   ]
  },
  {
   "cell_type": "code",
   "execution_count": null,
   "id": "ada0a74c",
   "metadata": {},
   "outputs": [],
   "source": [
    "train.event.value_counts()"
   ]
  },
  {
   "cell_type": "code",
   "execution_count": null,
   "id": "7c73dd70",
   "metadata": {},
   "outputs": [],
   "source": [
    "train.free_elements.value_counts()"
   ]
  },
  {
   "cell_type": "code",
   "execution_count": null,
   "id": "a5dcfa87",
   "metadata": {},
   "outputs": [],
   "source": [
    "train.dtypes"
   ]
  },
  {
   "cell_type": "code",
   "execution_count": null,
   "id": "20e4ee39",
   "metadata": {},
   "outputs": [],
   "source": []
  }
 ],
 "metadata": {
  "kernelspec": {
   "display_name": "Python 3 (ipykernel)",
   "language": "python",
   "name": "python3"
  },
  "language_info": {
   "codemirror_mode": {
    "name": "ipython",
    "version": 3
   },
   "file_extension": ".py",
   "mimetype": "text/x-python",
   "name": "python",
   "nbconvert_exporter": "python",
   "pygments_lexer": "ipython3",
   "version": "3.9.7"
  }
 },
 "nbformat": 4,
 "nbformat_minor": 5
}
